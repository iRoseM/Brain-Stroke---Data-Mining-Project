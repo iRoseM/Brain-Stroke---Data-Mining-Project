{
  "cells": [
    {
      "cell_type": "markdown",
      "metadata": {
        "id": "tClbnFzAMKsE"
      },
      "source": [
        "# Phase #1:\n",
        "## Goal of collecting the dataset:\n",
        "The primary aim of collecting the Brain Stroke Data dataset is to analyse and predict stroke occurrences based on various factors. Our data mining project will focus classification and clustering to predict the occurrence of stroke based on the attributes in the dataset, helping doctors and researchers to understand the factors that contribute to the risk of stroke as this is crucial for developing these strategies, clustering can help us identifying risk group, this can help identify subgroups with similar risk profiles for stroke.\n",
        "\n",
        "## The source of the dataset:\n",
        "https://www.kaggle.com/datasets/niranjanank/brain-stroke-data\n",
        "\n",
        "#### Read dataset:"
      ]
    },
    {
      "cell_type": "code",
      "execution_count": 2,
      "metadata": {
        "id": "3XbQuq3V4uLj"
      },
      "outputs": [],
      "source": [
        "from google.colab import drive"
      ]
    },
    {
      "cell_type": "code",
      "execution_count": 3,
      "metadata": {
        "colab": {
          "base_uri": "https://localhost:8080/"
        },
        "id": "qYsnlilCMnt4",
        "outputId": "430d1a15-f47e-4535-b48c-a89b4901b26a"
      },
      "outputs": [
        {
          "output_type": "stream",
          "name": "stdout",
          "text": [
            "Mounted at /content/drive\n"
          ]
        }
      ],
      "source": [
        "drive.mount('/content/drive')"
      ]
    },
    {
      "cell_type": "code",
      "execution_count": 4,
      "metadata": {
        "id": "qqqv_KbJ3ofd"
      },
      "outputs": [],
      "source": [
        "import pandas as pd\n",
        "df = pd.read_csv('https://raw.githubusercontent.com/iRoseM/Brain-Stroke---Data-Mining-Project/main/Dataset%20Folder/Original_dataset.csv')\n",
        "import matplotlib.pyplot as plt\n",
        "import seaborn as sns"
      ]
    },
    {
      "cell_type": "markdown",
      "metadata": {
        "id": "UMRKzceUMR_w"
      },
      "source": [
        "## General information about the dataset:\n",
        "- Number of objects in original dataset: 4981.\n",
        "- Number of attributes: 11.\n",
        "- Class labels: stroke.\n",
        "- Missing values: there is no missing values.\n",
        "- Dublicates: there is no dublicate objects."
      ]
    },
    {
      "cell_type": "code",
      "execution_count": 5,
      "metadata": {
        "colab": {
          "base_uri": "https://localhost:8080/"
        },
        "id": "yPJn9NPAMVje",
        "outputId": "1ffbe8a5-a1a2-411b-b3a6-152006cd424b"
      },
      "outputs": [
        {
          "output_type": "stream",
          "name": "stdout",
          "text": [
            "<class 'pandas.core.frame.DataFrame'>\n",
            "RangeIndex: 4981 entries, 0 to 4980\n",
            "Data columns (total 11 columns):\n",
            " #   Column             Non-Null Count  Dtype  \n",
            "---  ------             --------------  -----  \n",
            " 0   gender             4981 non-null   int64  \n",
            " 1   age                4981 non-null   float64\n",
            " 2   hypertension       4981 non-null   int64  \n",
            " 3   heart_disease      4981 non-null   int64  \n",
            " 4   ever_married       4981 non-null   int64  \n",
            " 5   work_type          4981 non-null   int64  \n",
            " 6   Residence_type     4981 non-null   int64  \n",
            " 7   avg_glucose_level  4981 non-null   float64\n",
            " 8   bmi                4981 non-null   float64\n",
            " 9   smoking_status     4981 non-null   int64  \n",
            " 10  stroke             4981 non-null   int64  \n",
            "dtypes: float64(3), int64(8)\n",
            "memory usage: 428.2 KB\n"
          ]
        }
      ],
      "source": [
        "df.info()"
      ]
    },
    {
      "cell_type": "markdown",
      "metadata": {
        "id": "bFy04w5KMWyE"
      },
      "source": [
        "#### Attributes data types:"
      ]
    },
    {
      "cell_type": "markdown",
      "metadata": {
        "id": "u8EvmSn3MZte"
      },
      "source": [
        "| Attributes name | Data type | Possible Values |\n",
        "|----------------|-------------|-------------|\n",
        "| gender   | Binary (symmetric) | Male (0), Female (1) |\n",
        "| Age | Numeric (Ratio) | 0.08-82 |\n",
        "| hypertension | Binary (asymmetric) | 1(Yes),0(No) |\n",
        "| heart_disease | Binary (asymmetric) | 1(Yes),0(No) |\n",
        "| ever_married | Binary (asymmetric) | 1(Yes),0(No) |\n",
        "| work_type | Nominal | 0(Private),1(Self-employed),2(Government job),3(Never worked) |\n",
        "| Residence | Binary (asymmetric) | 0(Urban),1(Rural) |\n",
        "| avg_glucose_level (Average glucose level) | Numeric (Ratio) | 55.12-271.74 |\n",
        "| bmi (Body mass index) | Numeric (Ratio) | 14-48.9 |\n",
        "| smoking_status | Nominal | 0(formerly smoked),1(never smoked),2(smokes),3(Unkown) |\n",
        "| stroke | Binary (Asymmetric) | 1(Yes),0(No) |"
      ]
    },
    {
      "cell_type": "markdown",
      "metadata": {
        "id": "541r5c1sMijK"
      },
      "source": [
        "#### to find dublicate objects:"
      ]
    },
    {
      "cell_type": "code",
      "execution_count": 6,
      "metadata": {
        "colab": {
          "base_uri": "https://localhost:8080/"
        },
        "id": "e7qsASEhMfTl",
        "outputId": "75943342-f535-4572-9729-87bdcb598042"
      },
      "outputs": [
        {
          "output_type": "stream",
          "name": "stdout",
          "text": [
            "No duplicate rows found.\n"
          ]
        }
      ],
      "source": [
        "duplicates = df.duplicated()\n",
        "\n",
        "#count the number of duplicates\n",
        "num_duplicates = duplicates.sum()\n",
        "\n",
        "#print the result\n",
        "if num_duplicates > 0:\n",
        "    print(f\"There are {num_duplicates} duplicate rows in the dataset.\")\n",
        "else:\n",
        "    print(\"No duplicate rows found.\")"
      ]
    },
    {
      "cell_type": "markdown",
      "source": [
        "#### to count null values:"
      ],
      "metadata": {
        "id": "SkIppi3XjJVg"
      }
    },
    {
      "cell_type": "code",
      "source": [
        "null= pd.isnull(df)\n",
        "null.head().sum().sum()"
      ],
      "metadata": {
        "colab": {
          "base_uri": "https://localhost:8080/"
        },
        "id": "Y3azIkBqjKEU",
        "outputId": "f13432c0-49ad-4ff0-84c9-6a006bf64b59"
      },
      "execution_count": 7,
      "outputs": [
        {
          "output_type": "execute_result",
          "data": {
            "text/plain": [
              "0"
            ]
          },
          "metadata": {},
          "execution_count": 7
        }
      ]
    }
  ],
  "metadata": {
    "colab": {
      "provenance": []
    },
    "kernelspec": {
      "display_name": "Python (Pyodide)",
      "language": "python",
      "name": "python"
    },
    "language_info": {
      "codemirror_mode": {
        "name": "python",
        "version": 3
      },
      "file_extension": ".py",
      "mimetype": "text/x-python",
      "name": "python",
      "nbconvert_exporter": "python",
      "pygments_lexer": "ipython3",
      "version": "3.8"
    }
  },
  "nbformat": 4,
  "nbformat_minor": 0
}