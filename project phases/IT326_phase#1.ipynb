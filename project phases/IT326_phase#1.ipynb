{
  "metadata": {
    "kernelspec": {
      "name": "python",
      "display_name": "Python (Pyodide)",
      "language": "python"
    },
    "language_info": {
      "codemirror_mode": {
        "name": "python",
        "version": 3
      },
      "file_extension": ".py",
      "mimetype": "text/x-python",
      "name": "python",
      "nbconvert_exporter": "python",
      "pygments_lexer": "ipython3",
      "version": "3.8"
    }
  },
  "nbformat_minor": 4,
  "nbformat": 4,
  "cells": [
    {
      "cell_type": "markdown",
      "source": "# Phase #1:\n## Goal of collecting the dataset:\nThe primary aim of collecting the Brain Stroke Data dataset is to analyse and predict stroke occurrences based on various factors. Our data mining project will focus classification and clustering to predict the occurrence of stroke based on the attributes in the dataset, helping doctors and researchers to understand the factors that contribute to the risk of stroke as this is crucial for developing these strategies, clustering can help us identifying risk group, this can help identify subgroups with similar risk profiles for stroke.\n\n## The source of the dataset:\nhttps://www.kaggle.com/datasets/niranjanank/brain-stroke-data\n\n#### Read dataset:",
      "metadata": {}
    },
    {
      "cell_type": "code",
      "source": "import pandas as pd\ndf = pd.read_csv('Stroke_final.csv')",
      "metadata": {
        "trusted": true
      },
      "outputs": [],
      "execution_count": 16
    },
    {
      "cell_type": "markdown",
      "source": "## General information about the dataset:\n- Number of objects in original dataset: 4982.\n- Number of attributes: 11.\n- Class labels: stroke.\n- Missing values: there is no missing values.\n- Dublicates: there is no dublicate objects.",
      "metadata": {}
    },
    {
      "cell_type": "code",
      "source": "df.info()",
      "metadata": {
        "trusted": true
      },
      "outputs": [
        {
          "name": "stdout",
          "text": "<class 'pandas.core.frame.DataFrame'>\nRangeIndex: 4981 entries, 0 to 4980\nData columns (total 11 columns):\n #   Column             Non-Null Count  Dtype  \n---  ------             --------------  -----  \n 0   gender             4981 non-null   int64  \n 1   age                4981 non-null   float64\n 2   hypertension       4981 non-null   int64  \n 3   heart_disease      4981 non-null   int64  \n 4   ever_married       4981 non-null   int64  \n 5   work_type          4981 non-null   int64  \n 6   Residence_type     4981 non-null   int64  \n 7   avg_glucose_level  4981 non-null   float64\n 8   bmi                4981 non-null   float64\n 9   smoking_status     4981 non-null   int64  \n 10  stroke             4981 non-null   int64  \ndtypes: float64(3), int64(8)\nmemory usage: 428.1 KB\n",
          "output_type": "stream"
        }
      ],
      "execution_count": 18
    },
    {
      "cell_type": "markdown",
      "source": "#### Attributes data types:",
      "metadata": {}
    },
    {
      "cell_type": "markdown",
      "source": "| Attributes name | Data type |\n|----------------|-------------|\n| gender   | Binary (symmetric) |\n| Age | Numeric (Ratio) |\n| hypertension | Binary (asymmetric) |\n| heart_disease | Binary (asymmetric) |\n| ever_married | Binary (asymmetric) |\n| work_type | Ordinal |\n| Residence | Binary (asymmetric) |\n| avg_glucose_level (Average glucose level) | Numeric (Ratio) |\n| bmi (Body mass index) | Numeric (Ratio) |\n| smoking_status | Ordinal |\n| stroke | Binary (Asymmetric) |",
      "metadata": {}
    },
    {
      "cell_type": "markdown",
      "source": "#### to find dublicate objects:",
      "metadata": {}
    },
    {
      "cell_type": "code",
      "source": "duplicates = df.duplicated()\n\n#count the number of duplicates\nnum_duplicates = duplicates.sum()\n\n#print the result\nif num_duplicates > 0:\n    print(f\"There are {num_duplicates} duplicate rows in the dataset.\")\nelse:\n    print(\"No duplicate rows found.\")",
      "metadata": {
        "trusted": true
      },
      "outputs": [
        {
          "name": "stdout",
          "text": "No duplicate rows found.\n",
          "output_type": "stream"
        }
      ],
      "execution_count": 19
    },
    {
      "cell_type": "markdown",
      "source": "#### to count null values:",
      "metadata": {}
    },
    {
      "cell_type": "code",
      "source": "null= pd.isnull(df)\nnull.head().sum().sum()",
      "metadata": {
        "trusted": true
      },
      "outputs": [
        {
          "execution_count": 20,
          "output_type": "execute_result",
          "data": {
            "text/plain": "0"
          },
          "metadata": {}
        }
      ],
      "execution_count": 20
    }
  ]
}